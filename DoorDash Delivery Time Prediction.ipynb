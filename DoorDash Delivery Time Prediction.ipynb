{
 "cells": [
  {
   "cell_type": "code",
   "execution_count": 3,
   "id": "28f75001",
   "metadata": {},
   "outputs": [],
   "source": [
    "import numpy as np\n",
    "import pandas as pd\n",
    "import matplotlib.pyplot as plt \n",
    "import seaborn as sns \n",
    "import sklearn "
   ]
  },
  {
   "cell_type": "code",
   "execution_count": 4,
   "id": "0ff5592f",
   "metadata": {},
   "outputs": [],
   "source": [
    "file = pd.read_csv(r\"C:\\Users\\User\\Desktop\\Data Science\\Projects Dataset\\datasets\\historical_data.csv\")"
   ]
  },
  {
   "cell_type": "code",
   "execution_count": 5,
   "id": "b400ce6f",
   "metadata": {},
   "outputs": [],
   "source": [
    "pd.set_option(\"display.max_columns\", None)"
   ]
  },
  {
   "cell_type": "code",
   "execution_count": 6,
   "id": "2a70cb68",
   "metadata": {},
   "outputs": [
    {
     "data": {
      "text/plain": [
       "(197428, 16)"
      ]
     },
     "execution_count": 6,
     "metadata": {},
     "output_type": "execute_result"
    }
   ],
   "source": [
    "file.shape"
   ]
  },
  {
   "cell_type": "code",
   "execution_count": 7,
   "id": "5b82520c",
   "metadata": {},
   "outputs": [
    {
     "data": {
      "text/plain": [
       "market_id                                         987\n",
       "created_at                                          0\n",
       "actual_delivery_time                                7\n",
       "store_id                                            0\n",
       "store_primary_category                           4760\n",
       "order_protocol                                    995\n",
       "total_items                                         0\n",
       "subtotal                                            0\n",
       "num_distinct_items                                  0\n",
       "min_item_price                                      0\n",
       "max_item_price                                      0\n",
       "total_onshift_dashers                           16262\n",
       "total_busy_dashers                              16262\n",
       "total_outstanding_orders                        16262\n",
       "estimated_order_place_duration                      0\n",
       "estimated_store_to_consumer_driving_duration      526\n",
       "dtype: int64"
      ]
     },
     "execution_count": 7,
     "metadata": {},
     "output_type": "execute_result"
    }
   ],
   "source": [
    "file.isna().sum()"
   ]
  },
  {
   "cell_type": "code",
   "execution_count": 8,
   "id": "ec777ea2",
   "metadata": {},
   "outputs": [
    {
     "data": {
      "text/plain": [
       "0"
      ]
     },
     "execution_count": 8,
     "metadata": {},
     "output_type": "execute_result"
    }
   ],
   "source": [
    "file.duplicated().sum()"
   ]
  },
  {
   "cell_type": "code",
   "execution_count": 9,
   "id": "40617666",
   "metadata": {},
   "outputs": [
    {
     "name": "stdout",
     "output_type": "stream",
     "text": [
      "<class 'pandas.core.frame.DataFrame'>\n",
      "RangeIndex: 197428 entries, 0 to 197427\n",
      "Data columns (total 16 columns):\n",
      " #   Column                                        Non-Null Count   Dtype  \n",
      "---  ------                                        --------------   -----  \n",
      " 0   market_id                                     196441 non-null  float64\n",
      " 1   created_at                                    197428 non-null  object \n",
      " 2   actual_delivery_time                          197421 non-null  object \n",
      " 3   store_id                                      197428 non-null  int64  \n",
      " 4   store_primary_category                        192668 non-null  object \n",
      " 5   order_protocol                                196433 non-null  float64\n",
      " 6   total_items                                   197428 non-null  int64  \n",
      " 7   subtotal                                      197428 non-null  int64  \n",
      " 8   num_distinct_items                            197428 non-null  int64  \n",
      " 9   min_item_price                                197428 non-null  int64  \n",
      " 10  max_item_price                                197428 non-null  int64  \n",
      " 11  total_onshift_dashers                         181166 non-null  float64\n",
      " 12  total_busy_dashers                            181166 non-null  float64\n",
      " 13  total_outstanding_orders                      181166 non-null  float64\n",
      " 14  estimated_order_place_duration                197428 non-null  int64  \n",
      " 15  estimated_store_to_consumer_driving_duration  196902 non-null  float64\n",
      "dtypes: float64(6), int64(7), object(3)\n",
      "memory usage: 24.1+ MB\n"
     ]
    }
   ],
   "source": [
    "file.info()"
   ]
  },
  {
   "cell_type": "code",
   "execution_count": 10,
   "id": "0f25ce8a",
   "metadata": {},
   "outputs": [
    {
     "data": {
      "text/html": [
       "<div>\n",
       "<style scoped>\n",
       "    .dataframe tbody tr th:only-of-type {\n",
       "        vertical-align: middle;\n",
       "    }\n",
       "\n",
       "    .dataframe tbody tr th {\n",
       "        vertical-align: top;\n",
       "    }\n",
       "\n",
       "    .dataframe thead th {\n",
       "        text-align: right;\n",
       "    }\n",
       "</style>\n",
       "<table border=\"1\" class=\"dataframe\">\n",
       "  <thead>\n",
       "    <tr style=\"text-align: right;\">\n",
       "      <th></th>\n",
       "      <th>market_id</th>\n",
       "      <th>store_id</th>\n",
       "      <th>order_protocol</th>\n",
       "      <th>total_items</th>\n",
       "      <th>subtotal</th>\n",
       "      <th>num_distinct_items</th>\n",
       "      <th>min_item_price</th>\n",
       "      <th>max_item_price</th>\n",
       "      <th>total_onshift_dashers</th>\n",
       "      <th>total_busy_dashers</th>\n",
       "      <th>total_outstanding_orders</th>\n",
       "      <th>estimated_order_place_duration</th>\n",
       "      <th>estimated_store_to_consumer_driving_duration</th>\n",
       "    </tr>\n",
       "  </thead>\n",
       "  <tbody>\n",
       "    <tr>\n",
       "      <th>count</th>\n",
       "      <td>196441.000000</td>\n",
       "      <td>197428.000000</td>\n",
       "      <td>196433.000000</td>\n",
       "      <td>197428.000000</td>\n",
       "      <td>197428.000000</td>\n",
       "      <td>197428.000000</td>\n",
       "      <td>197428.000000</td>\n",
       "      <td>197428.000000</td>\n",
       "      <td>181166.000000</td>\n",
       "      <td>181166.000000</td>\n",
       "      <td>181166.000000</td>\n",
       "      <td>197428.000000</td>\n",
       "      <td>196902.000000</td>\n",
       "    </tr>\n",
       "    <tr>\n",
       "      <th>mean</th>\n",
       "      <td>2.978706</td>\n",
       "      <td>3530.510272</td>\n",
       "      <td>2.882352</td>\n",
       "      <td>3.196391</td>\n",
       "      <td>2682.331402</td>\n",
       "      <td>2.670791</td>\n",
       "      <td>686.218470</td>\n",
       "      <td>1159.588630</td>\n",
       "      <td>44.808093</td>\n",
       "      <td>41.739747</td>\n",
       "      <td>58.050065</td>\n",
       "      <td>308.560179</td>\n",
       "      <td>545.358935</td>\n",
       "    </tr>\n",
       "    <tr>\n",
       "      <th>std</th>\n",
       "      <td>1.524867</td>\n",
       "      <td>2053.496711</td>\n",
       "      <td>1.503771</td>\n",
       "      <td>2.666546</td>\n",
       "      <td>1823.093688</td>\n",
       "      <td>1.630255</td>\n",
       "      <td>522.038648</td>\n",
       "      <td>558.411377</td>\n",
       "      <td>34.526783</td>\n",
       "      <td>32.145733</td>\n",
       "      <td>52.661830</td>\n",
       "      <td>90.139653</td>\n",
       "      <td>219.352902</td>\n",
       "    </tr>\n",
       "    <tr>\n",
       "      <th>min</th>\n",
       "      <td>1.000000</td>\n",
       "      <td>1.000000</td>\n",
       "      <td>1.000000</td>\n",
       "      <td>1.000000</td>\n",
       "      <td>0.000000</td>\n",
       "      <td>1.000000</td>\n",
       "      <td>-86.000000</td>\n",
       "      <td>0.000000</td>\n",
       "      <td>-4.000000</td>\n",
       "      <td>-5.000000</td>\n",
       "      <td>-6.000000</td>\n",
       "      <td>0.000000</td>\n",
       "      <td>0.000000</td>\n",
       "    </tr>\n",
       "    <tr>\n",
       "      <th>25%</th>\n",
       "      <td>2.000000</td>\n",
       "      <td>1686.000000</td>\n",
       "      <td>1.000000</td>\n",
       "      <td>2.000000</td>\n",
       "      <td>1400.000000</td>\n",
       "      <td>1.000000</td>\n",
       "      <td>299.000000</td>\n",
       "      <td>800.000000</td>\n",
       "      <td>17.000000</td>\n",
       "      <td>15.000000</td>\n",
       "      <td>17.000000</td>\n",
       "      <td>251.000000</td>\n",
       "      <td>382.000000</td>\n",
       "    </tr>\n",
       "    <tr>\n",
       "      <th>50%</th>\n",
       "      <td>3.000000</td>\n",
       "      <td>3592.000000</td>\n",
       "      <td>3.000000</td>\n",
       "      <td>3.000000</td>\n",
       "      <td>2200.000000</td>\n",
       "      <td>2.000000</td>\n",
       "      <td>595.000000</td>\n",
       "      <td>1095.000000</td>\n",
       "      <td>37.000000</td>\n",
       "      <td>34.000000</td>\n",
       "      <td>41.000000</td>\n",
       "      <td>251.000000</td>\n",
       "      <td>544.000000</td>\n",
       "    </tr>\n",
       "    <tr>\n",
       "      <th>75%</th>\n",
       "      <td>4.000000</td>\n",
       "      <td>5299.000000</td>\n",
       "      <td>4.000000</td>\n",
       "      <td>4.000000</td>\n",
       "      <td>3395.000000</td>\n",
       "      <td>3.000000</td>\n",
       "      <td>949.000000</td>\n",
       "      <td>1395.000000</td>\n",
       "      <td>65.000000</td>\n",
       "      <td>62.000000</td>\n",
       "      <td>85.000000</td>\n",
       "      <td>446.000000</td>\n",
       "      <td>702.000000</td>\n",
       "    </tr>\n",
       "    <tr>\n",
       "      <th>max</th>\n",
       "      <td>6.000000</td>\n",
       "      <td>6987.000000</td>\n",
       "      <td>7.000000</td>\n",
       "      <td>411.000000</td>\n",
       "      <td>27100.000000</td>\n",
       "      <td>20.000000</td>\n",
       "      <td>14700.000000</td>\n",
       "      <td>14700.000000</td>\n",
       "      <td>171.000000</td>\n",
       "      <td>154.000000</td>\n",
       "      <td>285.000000</td>\n",
       "      <td>2715.000000</td>\n",
       "      <td>2088.000000</td>\n",
       "    </tr>\n",
       "  </tbody>\n",
       "</table>\n",
       "</div>"
      ],
      "text/plain": [
       "           market_id       store_id  order_protocol    total_items  \\\n",
       "count  196441.000000  197428.000000   196433.000000  197428.000000   \n",
       "mean        2.978706    3530.510272        2.882352       3.196391   \n",
       "std         1.524867    2053.496711        1.503771       2.666546   \n",
       "min         1.000000       1.000000        1.000000       1.000000   \n",
       "25%         2.000000    1686.000000        1.000000       2.000000   \n",
       "50%         3.000000    3592.000000        3.000000       3.000000   \n",
       "75%         4.000000    5299.000000        4.000000       4.000000   \n",
       "max         6.000000    6987.000000        7.000000     411.000000   \n",
       "\n",
       "            subtotal  num_distinct_items  min_item_price  max_item_price  \\\n",
       "count  197428.000000       197428.000000   197428.000000   197428.000000   \n",
       "mean     2682.331402            2.670791      686.218470     1159.588630   \n",
       "std      1823.093688            1.630255      522.038648      558.411377   \n",
       "min         0.000000            1.000000      -86.000000        0.000000   \n",
       "25%      1400.000000            1.000000      299.000000      800.000000   \n",
       "50%      2200.000000            2.000000      595.000000     1095.000000   \n",
       "75%      3395.000000            3.000000      949.000000     1395.000000   \n",
       "max     27100.000000           20.000000    14700.000000    14700.000000   \n",
       "\n",
       "       total_onshift_dashers  total_busy_dashers  total_outstanding_orders  \\\n",
       "count          181166.000000       181166.000000             181166.000000   \n",
       "mean               44.808093           41.739747                 58.050065   \n",
       "std                34.526783           32.145733                 52.661830   \n",
       "min                -4.000000           -5.000000                 -6.000000   \n",
       "25%                17.000000           15.000000                 17.000000   \n",
       "50%                37.000000           34.000000                 41.000000   \n",
       "75%                65.000000           62.000000                 85.000000   \n",
       "max               171.000000          154.000000                285.000000   \n",
       "\n",
       "       estimated_order_place_duration  \\\n",
       "count                   197428.000000   \n",
       "mean                       308.560179   \n",
       "std                         90.139653   \n",
       "min                          0.000000   \n",
       "25%                        251.000000   \n",
       "50%                        251.000000   \n",
       "75%                        446.000000   \n",
       "max                       2715.000000   \n",
       "\n",
       "       estimated_store_to_consumer_driving_duration  \n",
       "count                                 196902.000000  \n",
       "mean                                     545.358935  \n",
       "std                                      219.352902  \n",
       "min                                        0.000000  \n",
       "25%                                      382.000000  \n",
       "50%                                      544.000000  \n",
       "75%                                      702.000000  \n",
       "max                                     2088.000000  "
      ]
     },
     "execution_count": 10,
     "metadata": {},
     "output_type": "execute_result"
    }
   ],
   "source": [
    "file.describe()"
   ]
  },
  {
   "cell_type": "code",
   "execution_count": 11,
   "id": "49e0ece5",
   "metadata": {},
   "outputs": [],
   "source": [
    "file.created_at = pd.to_datetime(file.created_at)\n",
    "file.actual_delivery_time = pd.to_datetime(file.actual_delivery_time)"
   ]
  },
  {
   "cell_type": "code",
   "execution_count": 12,
   "id": "ea65de67",
   "metadata": {},
   "outputs": [
    {
     "data": {
      "text/plain": [
       "array(['american', 'mexican', nan, 'indian', 'italian', 'sandwich',\n",
       "       'thai', 'cafe', 'salad', 'pizza', 'chinese', 'singaporean',\n",
       "       'burger', 'breakfast', 'mediterranean', 'japanese', 'greek',\n",
       "       'catering', 'filipino', 'convenience-store', 'other', 'korean',\n",
       "       'vegan', 'asian', 'barbecue', 'fast', 'dessert', 'smoothie',\n",
       "       'seafood', 'vietnamese', 'cajun', 'steak', 'middle-eastern',\n",
       "       'soup', 'vegetarian', 'persian', 'nepalese', 'sushi',\n",
       "       'latin-american', 'hawaiian', 'chocolate', 'burmese', 'british',\n",
       "       'pasta', 'alcohol', 'dim-sum', 'peruvian', 'turkish', 'malaysian',\n",
       "       'ethiopian', 'afghan', 'bubble-tea', 'german', 'french',\n",
       "       'caribbean', 'gluten-free', 'comfort-food', 'gastropub',\n",
       "       'pakistani', 'moroccan', 'spanish', 'southern', 'tapas', 'russian',\n",
       "       'brazilian', 'european', 'cheese', 'african', 'argentine',\n",
       "       'kosher', 'irish', 'lebanese', 'belgian', 'indonesian',\n",
       "       'alcohol-plus-food'], dtype=object)"
      ]
     },
     "execution_count": 12,
     "metadata": {},
     "output_type": "execute_result"
    }
   ],
   "source": [
    "file.store_primary_category.unique()"
   ]
  },
  {
   "cell_type": "markdown",
   "id": "e299c326",
   "metadata": {},
   "source": [
    "# Feature Engineering"
   ]
  },
  {
   "cell_type": "markdown",
   "id": "f72783b8",
   "metadata": {},
   "source": [
    "To get the exact hour, minute and second in which the order was created, I would split the created_at column into three different columns, after which i would drop the original column."
   ]
  },
  {
   "cell_type": "code",
   "execution_count": 13,
   "id": "fa29edff",
   "metadata": {},
   "outputs": [],
   "source": [
    "file[\"created_at_hour\"] = file.created_at.dt.hour\n",
    "file[\"created_at_min\"] = file.created_at.dt.minute\n",
    "file[\"created_at_sec\"] = file.created_at.dt.second"
   ]
  },
  {
   "cell_type": "markdown",
   "id": "d4484dde",
   "metadata": {},
   "source": [
    "To get the exact time in seconds taken to deliver an order i would subtract the time the order was created from the actual_delivery_time. Also i would creat a new column called \"non_preparation_time\" "
   ]
  },
  {
   "cell_type": "code",
   "execution_count": 14,
   "id": "d02f78ce",
   "metadata": {},
   "outputs": [],
   "source": [
    "file[\"total_delivery_time(sec)\"] = (file.actual_delivery_time - file.created_at).dt.total_seconds()"
   ]
  },
  {
   "cell_type": "code",
   "execution_count": 15,
   "id": "ca1460c0",
   "metadata": {},
   "outputs": [],
   "source": [
    "file[\"non_preparation_time\"] = (file.estimated_order_place_duration + file.estimated_store_to_consumer_driving_duration)"
   ]
  },
  {
   "cell_type": "code",
   "execution_count": 16,
   "id": "fdb58784",
   "metadata": {},
   "outputs": [],
   "source": [
    "file.drop(columns = ['created_at', 'actual_delivery_time'], inplace = True)"
   ]
  },
  {
   "cell_type": "markdown",
   "id": "c7441bf4",
   "metadata": {},
   "source": [
    "I would create two new columns to capture the ration of busy dasher and the ratio of outstanding order.This would help us determine the ratio of riders who are not avalaible to deliver orders at any point in time."
   ]
  },
  {
   "cell_type": "code",
   "execution_count": 17,
   "id": "ef8b4d7c",
   "metadata": {},
   "outputs": [],
   "source": [
    "file['busy_dasher_ratio'] = file.total_busy_dashers/file.total_onshift_dashers\n",
    "file['outstanding_order_ratio'] = file.total_outstanding_orders/file.total_onshift_dashers"
   ]
  },
  {
   "cell_type": "code",
   "execution_count": 18,
   "id": "3230389f",
   "metadata": {},
   "outputs": [],
   "source": [
    "#store_id_unique = file.store_id.unique().tolist()\n",
    "#store_id_and_category = {store_id: file[file.store_id == store_id].store_primary_category.mode()\n",
    "#                        for store_id in store_id_unique}"
   ]
  },
  {
   "cell_type": "markdown",
   "id": "0cd09df8",
   "metadata": {},
   "source": [
    "To fil the missing values in store_primary_category,i would use the most frequent value in the store_primary_category for each store_id.This reduced the number of missing values significantlly."
   ]
  },
  {
   "cell_type": "code",
   "execution_count": 19,
   "id": "72b9af14",
   "metadata": {},
   "outputs": [],
   "source": [
    "grp = file.groupby('store_id')['store_primary_category'].agg([pd.Series.mode])"
   ]
  },
  {
   "cell_type": "code",
   "execution_count": 20,
   "id": "1836b187",
   "metadata": {},
   "outputs": [],
   "source": [
    "file_new = pd.DataFrame()\n",
    "\n",
    "for i in (grp.index):\n",
    "    df = file[file[\"store_id\"] == i].copy()\n",
    "    try:\n",
    "        df.fillna({'store_primary_category' : grp.loc[i][0]}, inplace = True)\n",
    "    except:\n",
    "        if (len(grp.loc[i][0])) != 0:\n",
    "            df.fillna({'store_primary_category' : grp.loc[i][0][0]}, inplace = True)\n",
    "        else:\n",
    "            pass\n",
    "    file_new = pd.concat([file_new, df])"
   ]
  },
  {
   "cell_type": "code",
   "execution_count": 21,
   "id": "a77fccfc",
   "metadata": {},
   "outputs": [
    {
     "data": {
      "text/plain": [
       "market_id                                         987\n",
       "store_id                                            0\n",
       "store_primary_category                            867\n",
       "order_protocol                                    995\n",
       "total_items                                         0\n",
       "subtotal                                            0\n",
       "num_distinct_items                                  0\n",
       "min_item_price                                      0\n",
       "max_item_price                                      0\n",
       "total_onshift_dashers                           16262\n",
       "total_busy_dashers                              16262\n",
       "total_outstanding_orders                        16262\n",
       "estimated_order_place_duration                      0\n",
       "estimated_store_to_consumer_driving_duration      526\n",
       "created_at_hour                                     0\n",
       "created_at_min                                      0\n",
       "created_at_sec                                      0\n",
       "total_delivery_time(sec)                            7\n",
       "non_preparation_time                              526\n",
       "busy_dasher_ratio                               19838\n",
       "outstanding_order_ratio                         19681\n",
       "dtype: int64"
      ]
     },
     "execution_count": 21,
     "metadata": {},
     "output_type": "execute_result"
    }
   ],
   "source": [
    "file_new.isna().sum()"
   ]
  },
  {
   "cell_type": "markdown",
   "id": "4749b95c",
   "metadata": {},
   "source": [
    "Creating the busy_dasher_ratio and outstanding_order_ratio introduced some infinity values in the dataset, i would replace these values with Null."
   ]
  },
  {
   "cell_type": "code",
   "execution_count": 22,
   "id": "501c5e05",
   "metadata": {},
   "outputs": [
    {
     "data": {
      "text/html": [
       "<div>\n",
       "<style scoped>\n",
       "    .dataframe tbody tr th:only-of-type {\n",
       "        vertical-align: middle;\n",
       "    }\n",
       "\n",
       "    .dataframe tbody tr th {\n",
       "        vertical-align: top;\n",
       "    }\n",
       "\n",
       "    .dataframe thead th {\n",
       "        text-align: right;\n",
       "    }\n",
       "</style>\n",
       "<table border=\"1\" class=\"dataframe\">\n",
       "  <thead>\n",
       "    <tr style=\"text-align: right;\">\n",
       "      <th></th>\n",
       "      <th>market_id</th>\n",
       "      <th>store_id</th>\n",
       "      <th>order_protocol</th>\n",
       "      <th>total_items</th>\n",
       "      <th>subtotal</th>\n",
       "      <th>num_distinct_items</th>\n",
       "      <th>min_item_price</th>\n",
       "      <th>max_item_price</th>\n",
       "      <th>total_onshift_dashers</th>\n",
       "      <th>total_busy_dashers</th>\n",
       "      <th>total_outstanding_orders</th>\n",
       "      <th>estimated_order_place_duration</th>\n",
       "      <th>estimated_store_to_consumer_driving_duration</th>\n",
       "      <th>created_at_hour</th>\n",
       "      <th>created_at_min</th>\n",
       "      <th>created_at_sec</th>\n",
       "      <th>total_delivery_time(sec)</th>\n",
       "      <th>non_preparation_time</th>\n",
       "      <th>busy_dasher_ratio</th>\n",
       "      <th>outstanding_order_ratio</th>\n",
       "    </tr>\n",
       "  </thead>\n",
       "  <tbody>\n",
       "    <tr>\n",
       "      <th>count</th>\n",
       "      <td>196441.000000</td>\n",
       "      <td>197428.000000</td>\n",
       "      <td>196433.000000</td>\n",
       "      <td>197428.000000</td>\n",
       "      <td>197428.000000</td>\n",
       "      <td>197428.000000</td>\n",
       "      <td>197428.000000</td>\n",
       "      <td>197428.000000</td>\n",
       "      <td>181166.000000</td>\n",
       "      <td>181166.000000</td>\n",
       "      <td>181166.000000</td>\n",
       "      <td>197428.000000</td>\n",
       "      <td>196902.000000</td>\n",
       "      <td>197428.000000</td>\n",
       "      <td>197428.000000</td>\n",
       "      <td>197428.000000</td>\n",
       "      <td>1.974210e+05</td>\n",
       "      <td>196902.000000</td>\n",
       "      <td>1.775900e+05</td>\n",
       "      <td>1.777470e+05</td>\n",
       "    </tr>\n",
       "    <tr>\n",
       "      <th>mean</th>\n",
       "      <td>2.978706</td>\n",
       "      <td>3530.510272</td>\n",
       "      <td>2.882352</td>\n",
       "      <td>3.196391</td>\n",
       "      <td>2682.331402</td>\n",
       "      <td>2.670791</td>\n",
       "      <td>686.218470</td>\n",
       "      <td>1159.588630</td>\n",
       "      <td>44.808093</td>\n",
       "      <td>41.739747</td>\n",
       "      <td>58.050065</td>\n",
       "      <td>308.560179</td>\n",
       "      <td>545.358935</td>\n",
       "      <td>8.467213</td>\n",
       "      <td>29.562985</td>\n",
       "      <td>29.577370</td>\n",
       "      <td>2.908257e+03</td>\n",
       "      <td>853.939183</td>\n",
       "      <td>NaN</td>\n",
       "      <td>inf</td>\n",
       "    </tr>\n",
       "    <tr>\n",
       "      <th>std</th>\n",
       "      <td>1.524867</td>\n",
       "      <td>2053.496711</td>\n",
       "      <td>1.503771</td>\n",
       "      <td>2.666546</td>\n",
       "      <td>1823.093688</td>\n",
       "      <td>1.630255</td>\n",
       "      <td>522.038648</td>\n",
       "      <td>558.411377</td>\n",
       "      <td>34.526783</td>\n",
       "      <td>32.145733</td>\n",
       "      <td>52.661830</td>\n",
       "      <td>90.139653</td>\n",
       "      <td>219.352902</td>\n",
       "      <td>8.658759</td>\n",
       "      <td>17.276819</td>\n",
       "      <td>17.281836</td>\n",
       "      <td>1.922961e+04</td>\n",
       "      <td>235.112835</td>\n",
       "      <td>NaN</td>\n",
       "      <td>NaN</td>\n",
       "    </tr>\n",
       "    <tr>\n",
       "      <th>min</th>\n",
       "      <td>1.000000</td>\n",
       "      <td>1.000000</td>\n",
       "      <td>1.000000</td>\n",
       "      <td>1.000000</td>\n",
       "      <td>0.000000</td>\n",
       "      <td>1.000000</td>\n",
       "      <td>-86.000000</td>\n",
       "      <td>0.000000</td>\n",
       "      <td>-4.000000</td>\n",
       "      <td>-5.000000</td>\n",
       "      <td>-6.000000</td>\n",
       "      <td>0.000000</td>\n",
       "      <td>0.000000</td>\n",
       "      <td>0.000000</td>\n",
       "      <td>0.000000</td>\n",
       "      <td>0.000000</td>\n",
       "      <td>1.010000e+02</td>\n",
       "      <td>153.000000</td>\n",
       "      <td>-inf</td>\n",
       "      <td>-1.600000e+01</td>\n",
       "    </tr>\n",
       "    <tr>\n",
       "      <th>25%</th>\n",
       "      <td>2.000000</td>\n",
       "      <td>1686.000000</td>\n",
       "      <td>1.000000</td>\n",
       "      <td>2.000000</td>\n",
       "      <td>1400.000000</td>\n",
       "      <td>1.000000</td>\n",
       "      <td>299.000000</td>\n",
       "      <td>800.000000</td>\n",
       "      <td>17.000000</td>\n",
       "      <td>15.000000</td>\n",
       "      <td>17.000000</td>\n",
       "      <td>251.000000</td>\n",
       "      <td>382.000000</td>\n",
       "      <td>2.000000</td>\n",
       "      <td>15.000000</td>\n",
       "      <td>15.000000</td>\n",
       "      <td>2.104000e+03</td>\n",
       "      <td>683.000000</td>\n",
       "      <td>8.269231e-01</td>\n",
       "      <td>9.411765e-01</td>\n",
       "    </tr>\n",
       "    <tr>\n",
       "      <th>50%</th>\n",
       "      <td>3.000000</td>\n",
       "      <td>3592.000000</td>\n",
       "      <td>3.000000</td>\n",
       "      <td>3.000000</td>\n",
       "      <td>2200.000000</td>\n",
       "      <td>2.000000</td>\n",
       "      <td>595.000000</td>\n",
       "      <td>1095.000000</td>\n",
       "      <td>37.000000</td>\n",
       "      <td>34.000000</td>\n",
       "      <td>41.000000</td>\n",
       "      <td>251.000000</td>\n",
       "      <td>544.000000</td>\n",
       "      <td>3.000000</td>\n",
       "      <td>29.000000</td>\n",
       "      <td>30.000000</td>\n",
       "      <td>2.660000e+03</td>\n",
       "      <td>850.000000</td>\n",
       "      <td>9.622642e-01</td>\n",
       "      <td>1.200000e+00</td>\n",
       "    </tr>\n",
       "    <tr>\n",
       "      <th>75%</th>\n",
       "      <td>4.000000</td>\n",
       "      <td>5299.000000</td>\n",
       "      <td>4.000000</td>\n",
       "      <td>4.000000</td>\n",
       "      <td>3395.000000</td>\n",
       "      <td>3.000000</td>\n",
       "      <td>949.000000</td>\n",
       "      <td>1395.000000</td>\n",
       "      <td>65.000000</td>\n",
       "      <td>62.000000</td>\n",
       "      <td>85.000000</td>\n",
       "      <td>446.000000</td>\n",
       "      <td>702.000000</td>\n",
       "      <td>19.000000</td>\n",
       "      <td>45.000000</td>\n",
       "      <td>45.000000</td>\n",
       "      <td>3.381000e+03</td>\n",
       "      <td>1017.000000</td>\n",
       "      <td>1.000000e+00</td>\n",
       "      <td>1.480000e+00</td>\n",
       "    </tr>\n",
       "    <tr>\n",
       "      <th>max</th>\n",
       "      <td>6.000000</td>\n",
       "      <td>6987.000000</td>\n",
       "      <td>7.000000</td>\n",
       "      <td>411.000000</td>\n",
       "      <td>27100.000000</td>\n",
       "      <td>20.000000</td>\n",
       "      <td>14700.000000</td>\n",
       "      <td>14700.000000</td>\n",
       "      <td>171.000000</td>\n",
       "      <td>154.000000</td>\n",
       "      <td>285.000000</td>\n",
       "      <td>2715.000000</td>\n",
       "      <td>2088.000000</td>\n",
       "      <td>23.000000</td>\n",
       "      <td>59.000000</td>\n",
       "      <td>59.000000</td>\n",
       "      <td>8.516859e+06</td>\n",
       "      <td>3222.000000</td>\n",
       "      <td>inf</td>\n",
       "      <td>inf</td>\n",
       "    </tr>\n",
       "  </tbody>\n",
       "</table>\n",
       "</div>"
      ],
      "text/plain": [
       "           market_id       store_id  order_protocol    total_items  \\\n",
       "count  196441.000000  197428.000000   196433.000000  197428.000000   \n",
       "mean        2.978706    3530.510272        2.882352       3.196391   \n",
       "std         1.524867    2053.496711        1.503771       2.666546   \n",
       "min         1.000000       1.000000        1.000000       1.000000   \n",
       "25%         2.000000    1686.000000        1.000000       2.000000   \n",
       "50%         3.000000    3592.000000        3.000000       3.000000   \n",
       "75%         4.000000    5299.000000        4.000000       4.000000   \n",
       "max         6.000000    6987.000000        7.000000     411.000000   \n",
       "\n",
       "            subtotal  num_distinct_items  min_item_price  max_item_price  \\\n",
       "count  197428.000000       197428.000000   197428.000000   197428.000000   \n",
       "mean     2682.331402            2.670791      686.218470     1159.588630   \n",
       "std      1823.093688            1.630255      522.038648      558.411377   \n",
       "min         0.000000            1.000000      -86.000000        0.000000   \n",
       "25%      1400.000000            1.000000      299.000000      800.000000   \n",
       "50%      2200.000000            2.000000      595.000000     1095.000000   \n",
       "75%      3395.000000            3.000000      949.000000     1395.000000   \n",
       "max     27100.000000           20.000000    14700.000000    14700.000000   \n",
       "\n",
       "       total_onshift_dashers  total_busy_dashers  total_outstanding_orders  \\\n",
       "count          181166.000000       181166.000000             181166.000000   \n",
       "mean               44.808093           41.739747                 58.050065   \n",
       "std                34.526783           32.145733                 52.661830   \n",
       "min                -4.000000           -5.000000                 -6.000000   \n",
       "25%                17.000000           15.000000                 17.000000   \n",
       "50%                37.000000           34.000000                 41.000000   \n",
       "75%                65.000000           62.000000                 85.000000   \n",
       "max               171.000000          154.000000                285.000000   \n",
       "\n",
       "       estimated_order_place_duration  \\\n",
       "count                   197428.000000   \n",
       "mean                       308.560179   \n",
       "std                         90.139653   \n",
       "min                          0.000000   \n",
       "25%                        251.000000   \n",
       "50%                        251.000000   \n",
       "75%                        446.000000   \n",
       "max                       2715.000000   \n",
       "\n",
       "       estimated_store_to_consumer_driving_duration  created_at_hour  \\\n",
       "count                                 196902.000000    197428.000000   \n",
       "mean                                     545.358935         8.467213   \n",
       "std                                      219.352902         8.658759   \n",
       "min                                        0.000000         0.000000   \n",
       "25%                                      382.000000         2.000000   \n",
       "50%                                      544.000000         3.000000   \n",
       "75%                                      702.000000        19.000000   \n",
       "max                                     2088.000000        23.000000   \n",
       "\n",
       "       created_at_min  created_at_sec  total_delivery_time(sec)  \\\n",
       "count   197428.000000   197428.000000              1.974210e+05   \n",
       "mean        29.562985       29.577370              2.908257e+03   \n",
       "std         17.276819       17.281836              1.922961e+04   \n",
       "min          0.000000        0.000000              1.010000e+02   \n",
       "25%         15.000000       15.000000              2.104000e+03   \n",
       "50%         29.000000       30.000000              2.660000e+03   \n",
       "75%         45.000000       45.000000              3.381000e+03   \n",
       "max         59.000000       59.000000              8.516859e+06   \n",
       "\n",
       "       non_preparation_time  busy_dasher_ratio  outstanding_order_ratio  \n",
       "count         196902.000000       1.775900e+05             1.777470e+05  \n",
       "mean             853.939183                NaN                      inf  \n",
       "std              235.112835                NaN                      NaN  \n",
       "min              153.000000               -inf            -1.600000e+01  \n",
       "25%              683.000000       8.269231e-01             9.411765e-01  \n",
       "50%              850.000000       9.622642e-01             1.200000e+00  \n",
       "75%             1017.000000       1.000000e+00             1.480000e+00  \n",
       "max             3222.000000                inf                      inf  "
      ]
     },
     "execution_count": 22,
     "metadata": {},
     "output_type": "execute_result"
    }
   ],
   "source": [
    "file_new.describe()"
   ]
  },
  {
   "cell_type": "code",
   "execution_count": 23,
   "id": "6f6d5f42",
   "metadata": {},
   "outputs": [],
   "source": [
    "file_new.replace([np.inf, -np.inf], np.nan, inplace=True)"
   ]
  },
  {
   "cell_type": "code",
   "execution_count": 24,
   "id": "2c60c151",
   "metadata": {},
   "outputs": [],
   "source": [
    "file_new.dropna(inplace=True)"
   ]
  },
  {
   "cell_type": "markdown",
   "id": "a793e469",
   "metadata": {},
   "source": [
    "## Creating Dummies Variables"
   ]
  },
  {
   "cell_type": "code",
   "execution_count": 25,
   "id": "c025a446",
   "metadata": {},
   "outputs": [],
   "source": [
    "protocol_dummies = pd.get_dummies(file_new['order_protocol'], prefix = \"protocol_\",  drop_first=True)\n",
    "market_id_dummies = pd.get_dummies(file_new['market_id'], prefix = \"market_\", drop_first=True)\n",
    "#store_primary_dummies = pd.get_dummies(file_new['store_primary_category'], drop_first=True)"
   ]
  },
  {
   "cell_type": "code",
   "execution_count": 26,
   "id": "5d53d7ea",
   "metadata": {},
   "outputs": [],
   "source": [
    "train_df = pd.get_dummies(file_new)\n",
    "train_df.drop(columns  = ['order_protocol', 'market_id', 'store_id'], inplace = True)"
   ]
  },
  {
   "cell_type": "code",
   "execution_count": 27,
   "id": "43dcf54c",
   "metadata": {},
   "outputs": [],
   "source": [
    "train_df = pd.concat([train_df, protocol_dummies, market_id_dummies], axis = 'columns')"
   ]
  },
  {
   "cell_type": "code",
   "execution_count": 28,
   "id": "ce740d6a",
   "metadata": {},
   "outputs": [
    {
     "data": {
      "text/plain": [
       "<AxesSubplot:>"
      ]
     },
     "execution_count": 28,
     "metadata": {},
     "output_type": "execute_result"
    },
    {
     "data": {
      "image/png": "[encoded data removed]",
      "text/plain": [
       "<Figure size 1440x720 with 2 Axes>"
      ]
     },
     "metadata": {
      "needs_background": "light"
     },
     "output_type": "display_data"
    }
   ],
   "source": [
    "plt.figure(figsize = (20, 10))\n",
    "sns.heatmap((pd.get_dummies(train_df)).corr())"
   ]
  },
  {
   "cell_type": "markdown",
   "id": "39b3e465",
   "metadata": {},
   "source": [
    "# Removing Redundancy"
   ]
  },
  {
   "cell_type": "markdown",
   "id": "8d331099",
   "metadata": {},
   "source": [
    "The number of columns has become larged from the previous processes.Thus, i would remove columns that are highly correlated or do not serve purpose to the to the model"
   ]
  },
  {
   "cell_type": "code",
   "execution_count": 29,
   "id": "1c08289d",
   "metadata": {},
   "outputs": [],
   "source": [
    "def get_redundant_pairs(df):\n",
    "    pairs_to_drop = set()\n",
    "    cols = df.columns\n",
    "    for i in range(0, df.shape[1]):\n",
    "        for j in range(0, i+1):\n",
    "            pairs_to_drop.add((cols[i], cols[j]))\n",
    "    return (pairs_to_drop)"
   ]
  },
  {
   "cell_type": "code",
   "execution_count": 30,
   "id": "722487a9",
   "metadata": {},
   "outputs": [],
   "source": [
    "def get_top_abs_correlations(df, n = 5):\n",
    "    au_corr = df.corr().abs().unstack()\n",
    "    labels_to_drop = get_redundant_pairs(df)\n",
    "    au_corr = au_corr.drop(labels = labels_to_drop).sort_values(ascending = False)\n",
    "    return au_corr[0:n]"
   ]
  },
  {
   "cell_type": "code",
   "execution_count": 31,
   "id": "b9a68749",
   "metadata": {},
   "outputs": [
    {
     "name": "stdout",
     "output_type": "stream",
     "text": [
      "Top Absolute Correlation\n",
      "total_onshift_dashers                         total_busy_dashers          0.941614\n",
      "                                              total_outstanding_orders    0.934581\n",
      "total_busy_dashers                            total_outstanding_orders    0.931191\n",
      "estimated_store_to_consumer_driving_duration  non_preparation_time        0.923235\n",
      "total_items                                   num_distinct_items          0.757776\n",
      "subtotal                                      num_distinct_items          0.683078\n",
      "total_items                                   subtotal                    0.556179\n",
      "min_item_price                                max_item_price              0.540647\n",
      "subtotal                                      max_item_price              0.508069\n",
      "store_primary_category_fast                   protocol__4.0               0.492713\n",
      "num_distinct_items                            min_item_price              0.447000\n",
      "total_outstanding_orders                      outstanding_order_ratio     0.420356\n",
      "market__2.0                                   market__4.0                 0.406737\n",
      "total_items                                   min_item_price              0.389236\n",
      "total_onshift_dashers                         created_at_hour             0.384960\n",
      "total_outstanding_orders                      created_at_hour             0.370427\n",
      "busy_dasher_ratio                             outstanding_order_ratio     0.368053\n",
      "estimated_order_place_duration                protocol__3.0               0.365092\n",
      "                                              non_preparation_time        0.363574\n",
      "total_busy_dashers                            created_at_hour             0.359639\n",
      "dtype: float64\n"
     ]
    }
   ],
   "source": [
    "print(\"Top Absolute Correlation\")\n",
    "print(get_top_abs_correlations(train_df, 20))"
   ]
  },
  {
   "cell_type": "code",
   "execution_count": 32,
   "id": "f80472e4",
   "metadata": {},
   "outputs": [],
   "source": [
    "train_df.drop(columns = ['total_onshift_dashers', 'total_busy_dashers','non_preparation_time',\n",
    "                       ], inplace= True)"
   ]
  },
  {
   "cell_type": "code",
   "execution_count": 33,
   "id": "7430abbf",
   "metadata": {},
   "outputs": [
    {
     "name": "stdout",
     "output_type": "stream",
     "text": [
      "Top Absolute Correlation\n",
      "total_items                     num_distinct_items         0.757776\n",
      "subtotal                        num_distinct_items         0.683078\n",
      "total_items                     subtotal                   0.556179\n",
      "min_item_price                  max_item_price             0.540647\n",
      "subtotal                        max_item_price             0.508069\n",
      "store_primary_category_fast     protocol__4.0              0.492713\n",
      "num_distinct_items              min_item_price             0.447000\n",
      "total_outstanding_orders        outstanding_order_ratio    0.420356\n",
      "market__2.0                     market__4.0                0.406737\n",
      "total_items                     min_item_price             0.389236\n",
      "total_outstanding_orders        created_at_hour            0.370427\n",
      "busy_dasher_ratio               outstanding_order_ratio    0.368053\n",
      "estimated_order_place_duration  protocol__3.0              0.365092\n",
      "protocol__3.0                   protocol__5.0              0.336150\n",
      "estimated_order_place_duration  protocol__5.0              0.333986\n",
      "total_outstanding_orders        market__2.0                0.288985\n",
      "                                market__4.0                0.265450\n",
      "                                market__3.0                0.262762\n",
      "total_delivery_time(sec)        outstanding_order_ratio    0.262607\n",
      "market__2.0                     market__3.0                0.241378\n",
      "dtype: float64\n"
     ]
    }
   ],
   "source": [
    "print(\"Top Absolute Correlation\")\n",
    "print(get_top_abs_correlations(train_df, 20))"
   ]
  },
  {
   "cell_type": "code",
   "execution_count": 34,
   "id": "534f440a",
   "metadata": {},
   "outputs": [],
   "source": [
    "train_df = pd.get_dummies(file_new)\n",
    "train_df.drop(columns  = ['order_protocol', 'market_id', 'store_id'], inplace = True)"
   ]
  },
  {
   "cell_type": "code",
   "execution_count": 35,
   "id": "de36c5d0",
   "metadata": {},
   "outputs": [],
   "source": [
    "train_df = pd.concat([train_df, protocol_dummies], axis = 'columns')"
   ]
  },
  {
   "cell_type": "code",
   "execution_count": 36,
   "id": "9a516cf8",
   "metadata": {},
   "outputs": [],
   "source": [
    "train_df.drop(columns = ['total_onshift_dashers', 'total_busy_dashers','non_preparation_time',\n",
    "                        ], inplace= True)"
   ]
  },
  {
   "cell_type": "code",
   "execution_count": 37,
   "id": "373c8289",
   "metadata": {},
   "outputs": [
    {
     "name": "stdout",
     "output_type": "stream",
     "text": [
      "Top Absolute Correlation\n",
      "total_items                     num_distinct_items         0.757776\n",
      "subtotal                        num_distinct_items         0.683078\n",
      "total_items                     subtotal                   0.556179\n",
      "min_item_price                  max_item_price             0.540647\n",
      "subtotal                        max_item_price             0.508069\n",
      "store_primary_category_fast     protocol__4.0              0.492713\n",
      "num_distinct_items              min_item_price             0.447000\n",
      "total_outstanding_orders        outstanding_order_ratio    0.420356\n",
      "total_items                     min_item_price             0.389236\n",
      "total_outstanding_orders        created_at_hour            0.370427\n",
      "busy_dasher_ratio               outstanding_order_ratio    0.368053\n",
      "estimated_order_place_duration  protocol__3.0              0.365092\n",
      "protocol__3.0                   protocol__5.0              0.336150\n",
      "estimated_order_place_duration  protocol__5.0              0.333986\n",
      "total_delivery_time(sec)        outstanding_order_ratio    0.262607\n",
      "protocol__2.0                   protocol__3.0              0.222042\n",
      "estimated_order_place_duration  protocol__2.0              0.220876\n",
      "max_item_price                  protocol__4.0              0.216996\n",
      "protocol__2.0                   protocol__5.0              0.203439\n",
      "protocol__3.0                   protocol__4.0              0.197754\n",
      "dtype: float64\n"
     ]
    }
   ],
   "source": [
    "print(\"Top Absolute Correlation\")\n",
    "print(get_top_abs_correlations(train_df, 20))"
   ]
  },
  {
   "cell_type": "code",
   "execution_count": 38,
   "id": "bf66fa5a",
   "metadata": {},
   "outputs": [],
   "source": [
    "train_df = pd.get_dummies(file_new)\n",
    "train_df.drop(columns  = ['order_protocol', 'market_id', 'store_id'], inplace = True)"
   ]
  },
  {
   "cell_type": "code",
   "execution_count": 39,
   "id": "bfc1de0d",
   "metadata": {},
   "outputs": [],
   "source": [
    "train_df.drop(columns = ['total_onshift_dashers', 'total_busy_dashers','non_preparation_time',\n",
    "                        ], inplace= True)"
   ]
  },
  {
   "cell_type": "code",
   "execution_count": 40,
   "id": "95b16600",
   "metadata": {},
   "outputs": [
    {
     "name": "stdout",
     "output_type": "stream",
     "text": [
      "Top Absolute Correlation\n",
      "total_items                                   num_distinct_items                0.757776\n",
      "subtotal                                      num_distinct_items                0.683078\n",
      "total_items                                   subtotal                          0.556179\n",
      "min_item_price                                max_item_price                    0.540647\n",
      "subtotal                                      max_item_price                    0.508069\n",
      "num_distinct_items                            min_item_price                    0.447000\n",
      "total_outstanding_orders                      outstanding_order_ratio           0.420356\n",
      "total_items                                   min_item_price                    0.389236\n",
      "total_outstanding_orders                      created_at_hour                   0.370427\n",
      "busy_dasher_ratio                             outstanding_order_ratio           0.368053\n",
      "total_delivery_time(sec)                      outstanding_order_ratio           0.262607\n",
      "subtotal                                      created_at_hour                   0.190263\n",
      "max_item_price                                created_at_hour                   0.189453\n",
      "estimated_store_to_consumer_driving_duration  total_delivery_time(sec)          0.188231\n",
      "subtotal                                      total_delivery_time(sec)          0.171855\n",
      "total_outstanding_orders                      estimated_order_place_duration    0.169843\n",
      "total_items                                   store_primary_category_fast       0.164857\n",
      "max_item_price                                store_primary_category_italian    0.163633\n",
      "                                              store_primary_category_fast       0.159119\n",
      "total_outstanding_orders                      total_delivery_time(sec)          0.157985\n",
      "dtype: float64\n"
     ]
    }
   ],
   "source": [
    "print(\"Top Absolute Correlation\")\n",
    "print(get_top_abs_correlations(train_df, 20))"
   ]
  },
  {
   "cell_type": "code",
   "execution_count": 41,
   "id": "61bc032b",
   "metadata": {},
   "outputs": [
    {
     "name": "stdout",
     "output_type": "stream",
     "text": [
      "Top Absolute Correlation\n",
      "min_item_price                avg_price                  0.860499\n",
      "max_item_price                avg_price                  0.770403\n",
      "total_items                   num_distinct_items         0.757776\n",
      "subtotal                      num_distinct_items         0.683078\n",
      "total_items                   subtotal                   0.556179\n",
      "min_item_price                max_item_price             0.540647\n",
      "subtotal                      max_item_price             0.508069\n",
      "num_distinct_items            min_item_price             0.447000\n",
      "total_items                   distinct_items_ratio       0.445159\n",
      "total_outstanding_orders      outstanding_order_ratio    0.420356\n",
      "total_items                   min_item_price             0.389236\n",
      "total_outstanding_orders      created_at_hour            0.370427\n",
      "busy_dasher_ratio             outstanding_order_ratio    0.368053\n",
      "total_items                   avg_price                  0.310571\n",
      "num_distinct_items            avg_price                  0.289546\n",
      "subtotal                      avg_price                  0.287131\n",
      "total_delivery_time(sec)      outstanding_order_ratio    0.262607\n",
      "distinct_items_ratio          avg_price                  0.226600\n",
      "store_primary_category_pizza  avg_price                  0.214630\n",
      "subtotal                      distinct_items_ratio       0.201243\n",
      "dtype: float64\n"
     ]
    }
   ],
   "source": [
    "train_df['distinct_items_ratio'] = train_df['num_distinct_items']/train_df['total_items']\n",
    "train_df['avg_price'] = train_df['subtotal']/train_df['total_items']\n",
    "print(\"Top Absolute Correlation\")\n",
    "print(get_top_abs_correlations(train_df, 20))"
   ]
  },
  {
   "cell_type": "code",
   "execution_count": 42,
   "id": "a9756fe2",
   "metadata": {},
   "outputs": [
    {
     "name": "stdout",
     "output_type": "stream",
     "text": [
      "Top Absolute Correlation\n",
      "total_items                                   distinct_items_ratio               0.445159\n",
      "total_outstanding_orders                      outstanding_order_ratio            0.420356\n",
      "                                              created_at_hour                    0.370427\n",
      "busy_dasher_ratio                             outstanding_order_ratio            0.368053\n",
      "total_items                                   price_range                        0.332984\n",
      "                                              avg_price                          0.310571\n",
      "total_delivery_time(sec)                      outstanding_order_ratio            0.262607\n",
      "distinct_items_ratio                          avg_price                          0.226600\n",
      "store_primary_category_pizza                  avg_price                          0.214630\n",
      "estimated_store_to_consumer_driving_duration  total_delivery_time(sec)           0.188231\n",
      "total_outstanding_orders                      estimated_order_place_duration     0.169843\n",
      "store_primary_category_fast                   avg_price                          0.167824\n",
      "total_items                                   store_primary_category_fast        0.164857\n",
      "total_outstanding_orders                      total_delivery_time(sec)           0.157985\n",
      "created_at_hour                               price_range                        0.153167\n",
      "                                              outstanding_order_ratio            0.152042\n",
      "store_primary_category_italian                avg_price                          0.152020\n",
      "store_primary_category_fast                   distinct_items_ratio               0.148312\n",
      "created_at_hour                               store_primary_category_sandwich    0.145265\n",
      "estimated_order_place_duration                store_primary_category_american    0.143367\n",
      "dtype: float64\n"
     ]
    }
   ],
   "source": [
    "train_df['price_range'] = train_df['max_item_price'] - train_df['min_item_price']\n",
    "train_df.drop(columns=['max_item_price', 'min_item_price', 'subtotal', 'num_distinct_items'], inplace=True)\n",
    "print(\"Top Absolute Correlation\")\n",
    "print(get_top_abs_correlations(train_df, 20))"
   ]
  },
  {
   "cell_type": "code",
   "execution_count": 44,
   "id": "5aa1fe45",
   "metadata": {},
   "outputs": [],
   "source": [
    "X = train_df.copy()\n",
    "X.drop(columns = 'total_delivery_time(sec)', inplace=True)\n",
    "Y = train_df['total_delivery_time(sec)']"
   ]
  },
  {
   "cell_type": "code",
   "execution_count": 45,
   "id": "becd136b",
   "metadata": {},
   "outputs": [],
   "source": [
    "from xgboost import XGBRegressor\n",
    "from lightgbm import LGBMRegressor \n",
    "from sklearn.metrics import mean_squared_error"
   ]
  },
  {
   "cell_type": "markdown",
   "id": "c716fa2c",
   "metadata": {},
   "source": [
    "# Calculating the prep time"
   ]
  },
  {
   "cell_type": "code",
   "execution_count": 46,
   "id": "c1d31a9f",
   "metadata": {},
   "outputs": [],
   "source": [
    "train_df['prep_time'] = train_df[\"total_delivery_time(sec)\"] - (train_df['estimated_store_to_consumer_driving_duration'] + train_df[\"estimated_order_place_duration\"])"
   ]
  },
  {
   "cell_type": "code",
   "execution_count": 47,
   "id": "327396be",
   "metadata": {},
   "outputs": [],
   "source": [
    "X_new = train_df.copy()\n",
    "X_new.drop(columns = ['estimated_order_place_duration', 'estimated_store_to_consumer_driving_duration', 'prep_time'], inplace=True)\n",
    "Y_new = train_df['prep_time']"
   ]
  },
  {
   "cell_type": "code",
   "execution_count": 48,
   "id": "38d03d69",
   "metadata": {},
   "outputs": [],
   "source": [
    "X_train, X_test, y_train, y_test = train_test_split(X_new, Y_new, test_size=0.2, random_state=42)"
   ]
  },
  {
   "cell_type": "code",
   "execution_count": 49,
   "id": "e51e23d4",
   "metadata": {},
   "outputs": [],
   "source": [
    "model = XGBRegressor()"
   ]
  },
  {
   "cell_type": "code",
   "execution_count": 50,
   "id": "bf778182",
   "metadata": {},
   "outputs": [
    {
     "data": {
      "text/plain": [
       "XGBRegressor(base_score=None, booster=None, callbacks=None,\n",
       "             colsample_bylevel=None, colsample_bynode=None,\n",
       "             colsample_bytree=None, early_stopping_rounds=None,\n",
       "             enable_categorical=False, eval_metric=None, feature_types=None,\n",
       "             gamma=None, gpu_id=None, grow_policy=None, importance_type=None,\n",
       "             interaction_constraints=None, learning_rate=None, max_bin=None,\n",
       "             max_cat_threshold=None, max_cat_to_onehot=None,\n",
       "             max_delta_step=None, max_depth=None, max_leaves=None,\n",
       "             min_child_weight=None, missing=nan, monotone_constraints=None,\n",
       "             n_estimators=100, n_jobs=None, num_parallel_tree=None,\n",
       "             predictor=None, random_state=None, ...)"
      ]
     },
     "execution_count": 50,
     "metadata": {},
     "output_type": "execute_result"
    }
   ],
   "source": [
    "model.fit(X_train, y_train)"
   ]
  },
  {
   "cell_type": "code",
   "execution_count": 51,
   "id": "b7d0d31f",
   "metadata": {},
   "outputs": [],
   "source": [
    "y_pred = model.predict(X_test)"
   ]
  },
  {
   "cell_type": "code",
   "execution_count": 52,
   "id": "33554b68",
   "metadata": {},
   "outputs": [],
   "source": [
    "df = pd.concat([train_df.loc[X_test.index].reset_index(), pd.Series(y_pred).rename(\"prep_time_pred\")], axis =1)"
   ]
  },
  {
   "cell_type": "code",
   "execution_count": 53,
   "id": "b0670456",
   "metadata": {},
   "outputs": [],
   "source": [
    "X = df.copy()\n",
    "X.drop(columns = [\"prep_time\",\"total_delivery_time(sec)\"], inplace =True)\n",
    "y = df['total_delivery_time(sec)']"
   ]
  },
  {
   "cell_type": "markdown",
   "id": "3abe595b",
   "metadata": {},
   "source": [
    "# Modelling"
   ]
  },
  {
   "cell_type": "code",
   "execution_count": 54,
   "id": "08eb9484",
   "metadata": {},
   "outputs": [],
   "source": [
    "X_train, X_test, y_train, y_test = train_test_split(X, y, test_size=0.2, random_state=42)"
   ]
  },
  {
   "cell_type": "code",
   "execution_count": 55,
   "id": "a0729867",
   "metadata": {},
   "outputs": [
    {
     "data": {
      "text/plain": [
       "XGBRegressor(base_score=None, booster=None, callbacks=None,\n",
       "             colsample_bylevel=None, colsample_bynode=None,\n",
       "             colsample_bytree=None, early_stopping_rounds=None,\n",
       "             enable_categorical=False, eval_metric=None, feature_types=None,\n",
       "             gamma=None, gpu_id=None, grow_policy=None, importance_type=None,\n",
       "             interaction_constraints=None, learning_rate=None, max_bin=None,\n",
       "             max_cat_threshold=None, max_cat_to_onehot=None,\n",
       "             max_delta_step=None, max_depth=None, max_leaves=None,\n",
       "             min_child_weight=None, missing=nan, monotone_constraints=None,\n",
       "             n_estimators=100, n_jobs=None, num_parallel_tree=None,\n",
       "             predictor=None, random_state=None, ...)"
      ]
     },
     "execution_count": 55,
     "metadata": {},
     "output_type": "execute_result"
    }
   ],
   "source": [
    "model.fit(X_train, y_train)"
   ]
  },
  {
   "cell_type": "code",
   "execution_count": 56,
   "id": "1186b3d7",
   "metadata": {},
   "outputs": [
    {
     "data": {
      "text/plain": [
       "0.9980026020737535"
      ]
     },
     "execution_count": 56,
     "metadata": {},
     "output_type": "execute_result"
    }
   ],
   "source": [
    "model.score(X_test,y_test)"
   ]
  },
  {
   "cell_type": "code",
   "execution_count": 57,
   "id": "532d1cca",
   "metadata": {},
   "outputs": [],
   "source": [
    "y_pred = model.predict(X_test)"
   ]
  },
  {
   "cell_type": "code",
   "execution_count": 58,
   "id": "a5539be8",
   "metadata": {},
   "outputs": [
    {
     "data": {
      "text/plain": [
       "52.576808637903504"
      ]
     },
     "execution_count": 58,
     "metadata": {},
     "output_type": "execute_result"
    }
   ],
   "source": [
    "mean_squared_error(y_test, y_pred, squared=False)"
   ]
  },
  {
   "cell_type": "code",
   "execution_count": 59,
   "id": "d4e5a13e",
   "metadata": {},
   "outputs": [
    {
     "data": {
      "text/html": [
       "<div>\n",
       "<style scoped>\n",
       "    .dataframe tbody tr th:only-of-type {\n",
       "        vertical-align: middle;\n",
       "    }\n",
       "\n",
       "    .dataframe tbody tr th {\n",
       "        vertical-align: top;\n",
       "    }\n",
       "\n",
       "    .dataframe thead th {\n",
       "        text-align: right;\n",
       "    }\n",
       "</style>\n",
       "<table border=\"1\" class=\"dataframe\">\n",
       "  <thead>\n",
       "    <tr style=\"text-align: right;\">\n",
       "      <th></th>\n",
       "      <th>index</th>\n",
       "      <th>total_delivery_time(sec)</th>\n",
       "      <th>pred_total_delivery_time(sec)</th>\n",
       "    </tr>\n",
       "  </thead>\n",
       "  <tbody>\n",
       "    <tr>\n",
       "      <th>0</th>\n",
       "      <td>10413</td>\n",
       "      <td>1828.0</td>\n",
       "      <td>1830.179321</td>\n",
       "    </tr>\n",
       "    <tr>\n",
       "      <th>1</th>\n",
       "      <td>19134</td>\n",
       "      <td>3079.0</td>\n",
       "      <td>3083.905518</td>\n",
       "    </tr>\n",
       "    <tr>\n",
       "      <th>2</th>\n",
       "      <td>19424</td>\n",
       "      <td>1514.0</td>\n",
       "      <td>1540.971069</td>\n",
       "    </tr>\n",
       "    <tr>\n",
       "      <th>3</th>\n",
       "      <td>20244</td>\n",
       "      <td>3360.0</td>\n",
       "      <td>3342.465820</td>\n",
       "    </tr>\n",
       "    <tr>\n",
       "      <th>4</th>\n",
       "      <td>25926</td>\n",
       "      <td>1886.0</td>\n",
       "      <td>1895.708252</td>\n",
       "    </tr>\n",
       "    <tr>\n",
       "      <th>5</th>\n",
       "      <td>2767</td>\n",
       "      <td>1709.0</td>\n",
       "      <td>1670.442139</td>\n",
       "    </tr>\n",
       "    <tr>\n",
       "      <th>6</th>\n",
       "      <td>19431</td>\n",
       "      <td>2419.0</td>\n",
       "      <td>2429.296143</td>\n",
       "    </tr>\n",
       "    <tr>\n",
       "      <th>7</th>\n",
       "      <td>17469</td>\n",
       "      <td>4797.0</td>\n",
       "      <td>4804.127930</td>\n",
       "    </tr>\n",
       "    <tr>\n",
       "      <th>8</th>\n",
       "      <td>21280</td>\n",
       "      <td>3485.0</td>\n",
       "      <td>3447.456055</td>\n",
       "    </tr>\n",
       "    <tr>\n",
       "      <th>9</th>\n",
       "      <td>28658</td>\n",
       "      <td>3437.0</td>\n",
       "      <td>3462.149658</td>\n",
       "    </tr>\n",
       "    <tr>\n",
       "      <th>10</th>\n",
       "      <td>31019</td>\n",
       "      <td>2583.0</td>\n",
       "      <td>2577.833496</td>\n",
       "    </tr>\n",
       "    <tr>\n",
       "      <th>11</th>\n",
       "      <td>1682</td>\n",
       "      <td>1792.0</td>\n",
       "      <td>1769.843628</td>\n",
       "    </tr>\n",
       "    <tr>\n",
       "      <th>12</th>\n",
       "      <td>32542</td>\n",
       "      <td>2293.0</td>\n",
       "      <td>2259.343506</td>\n",
       "    </tr>\n",
       "    <tr>\n",
       "      <th>13</th>\n",
       "      <td>6319</td>\n",
       "      <td>3514.0</td>\n",
       "      <td>3469.302734</td>\n",
       "    </tr>\n",
       "    <tr>\n",
       "      <th>14</th>\n",
       "      <td>34326</td>\n",
       "      <td>2956.0</td>\n",
       "      <td>2925.914551</td>\n",
       "    </tr>\n",
       "    <tr>\n",
       "      <th>15</th>\n",
       "      <td>31695</td>\n",
       "      <td>2660.0</td>\n",
       "      <td>2607.625488</td>\n",
       "    </tr>\n",
       "    <tr>\n",
       "      <th>16</th>\n",
       "      <td>27891</td>\n",
       "      <td>2468.0</td>\n",
       "      <td>2475.244629</td>\n",
       "    </tr>\n",
       "    <tr>\n",
       "      <th>17</th>\n",
       "      <td>13604</td>\n",
       "      <td>2738.0</td>\n",
       "      <td>2727.541992</td>\n",
       "    </tr>\n",
       "    <tr>\n",
       "      <th>18</th>\n",
       "      <td>30485</td>\n",
       "      <td>2364.0</td>\n",
       "      <td>2387.457275</td>\n",
       "    </tr>\n",
       "    <tr>\n",
       "      <th>19</th>\n",
       "      <td>24061</td>\n",
       "      <td>2209.0</td>\n",
       "      <td>2157.474609</td>\n",
       "    </tr>\n",
       "    <tr>\n",
       "      <th>20</th>\n",
       "      <td>32630</td>\n",
       "      <td>2501.0</td>\n",
       "      <td>2489.408691</td>\n",
       "    </tr>\n",
       "    <tr>\n",
       "      <th>21</th>\n",
       "      <td>11947</td>\n",
       "      <td>2278.0</td>\n",
       "      <td>2280.894775</td>\n",
       "    </tr>\n",
       "    <tr>\n",
       "      <th>22</th>\n",
       "      <td>8363</td>\n",
       "      <td>2424.0</td>\n",
       "      <td>2399.238037</td>\n",
       "    </tr>\n",
       "    <tr>\n",
       "      <th>23</th>\n",
       "      <td>27359</td>\n",
       "      <td>3241.0</td>\n",
       "      <td>3247.302734</td>\n",
       "    </tr>\n",
       "    <tr>\n",
       "      <th>24</th>\n",
       "      <td>24397</td>\n",
       "      <td>2696.0</td>\n",
       "      <td>2699.176514</td>\n",
       "    </tr>\n",
       "    <tr>\n",
       "      <th>25</th>\n",
       "      <td>25583</td>\n",
       "      <td>1615.0</td>\n",
       "      <td>1644.911255</td>\n",
       "    </tr>\n",
       "    <tr>\n",
       "      <th>26</th>\n",
       "      <td>18605</td>\n",
       "      <td>2040.0</td>\n",
       "      <td>2032.344971</td>\n",
       "    </tr>\n",
       "    <tr>\n",
       "      <th>27</th>\n",
       "      <td>24960</td>\n",
       "      <td>1704.0</td>\n",
       "      <td>1704.200928</td>\n",
       "    </tr>\n",
       "    <tr>\n",
       "      <th>28</th>\n",
       "      <td>16975</td>\n",
       "      <td>1257.0</td>\n",
       "      <td>1388.019531</td>\n",
       "    </tr>\n",
       "    <tr>\n",
       "      <th>29</th>\n",
       "      <td>27400</td>\n",
       "      <td>2901.0</td>\n",
       "      <td>2919.837891</td>\n",
       "    </tr>\n",
       "    <tr>\n",
       "      <th>30</th>\n",
       "      <td>16550</td>\n",
       "      <td>2916.0</td>\n",
       "      <td>2893.746338</td>\n",
       "    </tr>\n",
       "    <tr>\n",
       "      <th>31</th>\n",
       "      <td>31609</td>\n",
       "      <td>4256.0</td>\n",
       "      <td>4223.946777</td>\n",
       "    </tr>\n",
       "    <tr>\n",
       "      <th>32</th>\n",
       "      <td>21414</td>\n",
       "      <td>1510.0</td>\n",
       "      <td>1585.153931</td>\n",
       "    </tr>\n",
       "    <tr>\n",
       "      <th>33</th>\n",
       "      <td>6272</td>\n",
       "      <td>2582.0</td>\n",
       "      <td>2592.052490</td>\n",
       "    </tr>\n",
       "    <tr>\n",
       "      <th>34</th>\n",
       "      <td>16186</td>\n",
       "      <td>1025.0</td>\n",
       "      <td>1000.294983</td>\n",
       "    </tr>\n",
       "    <tr>\n",
       "      <th>35</th>\n",
       "      <td>13170</td>\n",
       "      <td>1969.0</td>\n",
       "      <td>1965.270508</td>\n",
       "    </tr>\n",
       "    <tr>\n",
       "      <th>36</th>\n",
       "      <td>33528</td>\n",
       "      <td>2658.0</td>\n",
       "      <td>2653.935791</td>\n",
       "    </tr>\n",
       "    <tr>\n",
       "      <th>37</th>\n",
       "      <td>11011</td>\n",
       "      <td>3150.0</td>\n",
       "      <td>3189.796875</td>\n",
       "    </tr>\n",
       "    <tr>\n",
       "      <th>38</th>\n",
       "      <td>8653</td>\n",
       "      <td>7943.0</td>\n",
       "      <td>8059.620605</td>\n",
       "    </tr>\n",
       "    <tr>\n",
       "      <th>39</th>\n",
       "      <td>5561</td>\n",
       "      <td>2227.0</td>\n",
       "      <td>2224.573730</td>\n",
       "    </tr>\n",
       "    <tr>\n",
       "      <th>40</th>\n",
       "      <td>30122</td>\n",
       "      <td>1513.0</td>\n",
       "      <td>1535.985840</td>\n",
       "    </tr>\n",
       "    <tr>\n",
       "      <th>41</th>\n",
       "      <td>8170</td>\n",
       "      <td>3283.0</td>\n",
       "      <td>3313.991943</td>\n",
       "    </tr>\n",
       "    <tr>\n",
       "      <th>42</th>\n",
       "      <td>14045</td>\n",
       "      <td>2412.0</td>\n",
       "      <td>2406.821777</td>\n",
       "    </tr>\n",
       "    <tr>\n",
       "      <th>43</th>\n",
       "      <td>26849</td>\n",
       "      <td>3123.0</td>\n",
       "      <td>3068.403320</td>\n",
       "    </tr>\n",
       "    <tr>\n",
       "      <th>44</th>\n",
       "      <td>7478</td>\n",
       "      <td>2764.0</td>\n",
       "      <td>2807.749023</td>\n",
       "    </tr>\n",
       "    <tr>\n",
       "      <th>45</th>\n",
       "      <td>23430</td>\n",
       "      <td>3282.0</td>\n",
       "      <td>3282.428955</td>\n",
       "    </tr>\n",
       "    <tr>\n",
       "      <th>46</th>\n",
       "      <td>24391</td>\n",
       "      <td>3203.0</td>\n",
       "      <td>3184.680908</td>\n",
       "    </tr>\n",
       "    <tr>\n",
       "      <th>47</th>\n",
       "      <td>26315</td>\n",
       "      <td>5803.0</td>\n",
       "      <td>5845.208008</td>\n",
       "    </tr>\n",
       "    <tr>\n",
       "      <th>48</th>\n",
       "      <td>15268</td>\n",
       "      <td>2971.0</td>\n",
       "      <td>2943.611328</td>\n",
       "    </tr>\n",
       "    <tr>\n",
       "      <th>49</th>\n",
       "      <td>30114</td>\n",
       "      <td>1198.0</td>\n",
       "      <td>1243.947266</td>\n",
       "    </tr>\n",
       "  </tbody>\n",
       "</table>\n",
       "</div>"
      ],
      "text/plain": [
       "    index  total_delivery_time(sec)  pred_total_delivery_time(sec)\n",
       "0   10413                    1828.0                    1830.179321\n",
       "1   19134                    3079.0                    3083.905518\n",
       "2   19424                    1514.0                    1540.971069\n",
       "3   20244                    3360.0                    3342.465820\n",
       "4   25926                    1886.0                    1895.708252\n",
       "5    2767                    1709.0                    1670.442139\n",
       "6   19431                    2419.0                    2429.296143\n",
       "7   17469                    4797.0                    4804.127930\n",
       "8   21280                    3485.0                    3447.456055\n",
       "9   28658                    3437.0                    3462.149658\n",
       "10  31019                    2583.0                    2577.833496\n",
       "11   1682                    1792.0                    1769.843628\n",
       "12  32542                    2293.0                    2259.343506\n",
       "13   6319                    3514.0                    3469.302734\n",
       "14  34326                    2956.0                    2925.914551\n",
       "15  31695                    2660.0                    2607.625488\n",
       "16  27891                    2468.0                    2475.244629\n",
       "17  13604                    2738.0                    2727.541992\n",
       "18  30485                    2364.0                    2387.457275\n",
       "19  24061                    2209.0                    2157.474609\n",
       "20  32630                    2501.0                    2489.408691\n",
       "21  11947                    2278.0                    2280.894775\n",
       "22   8363                    2424.0                    2399.238037\n",
       "23  27359                    3241.0                    3247.302734\n",
       "24  24397                    2696.0                    2699.176514\n",
       "25  25583                    1615.0                    1644.911255\n",
       "26  18605                    2040.0                    2032.344971\n",
       "27  24960                    1704.0                    1704.200928\n",
       "28  16975                    1257.0                    1388.019531\n",
       "29  27400                    2901.0                    2919.837891\n",
       "30  16550                    2916.0                    2893.746338\n",
       "31  31609                    4256.0                    4223.946777\n",
       "32  21414                    1510.0                    1585.153931\n",
       "33   6272                    2582.0                    2592.052490\n",
       "34  16186                    1025.0                    1000.294983\n",
       "35  13170                    1969.0                    1965.270508\n",
       "36  33528                    2658.0                    2653.935791\n",
       "37  11011                    3150.0                    3189.796875\n",
       "38   8653                    7943.0                    8059.620605\n",
       "39   5561                    2227.0                    2224.573730\n",
       "40  30122                    1513.0                    1535.985840\n",
       "41   8170                    3283.0                    3313.991943\n",
       "42  14045                    2412.0                    2406.821777\n",
       "43  26849                    3123.0                    3068.403320\n",
       "44   7478                    2764.0                    2807.749023\n",
       "45  23430                    3282.0                    3282.428955\n",
       "46  24391                    3203.0                    3184.680908\n",
       "47  26315                    5803.0                    5845.208008\n",
       "48  15268                    2971.0                    2943.611328\n",
       "49  30114                    1198.0                    1243.947266"
      ]
     },
     "execution_count": 59,
     "metadata": {},
     "output_type": "execute_result"
    }
   ],
   "source": [
    "pd.concat([(df.loc[X_test.index]['total_delivery_time(sec)']).reset_index(), pd.Series(y_pred).rename('pred_total_delivery_time(sec)')], axis = 1).head(50)"
   ]
  }
 ],
 "metadata": {
  "kernelspec": {
   "display_name": "Python 3 (ipykernel)",
   "language": "python",
   "name": "python3"
  },
  "language_info": {
   "codemirror_mode": {
    "name": "ipython",
    "version": 3
   },
   "file_extension": ".py",
   "mimetype": "text/x-python",
   "name": "python",
   "nbconvert_exporter": "python",
   "pygments_lexer": "ipython3",
   "version": "3.9.7"
  }
 },
 "nbformat": 4,
 "nbformat_minor": 5
}
